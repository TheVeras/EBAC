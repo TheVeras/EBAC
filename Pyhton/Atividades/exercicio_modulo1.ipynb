{
  "nbformat": 4,
  "nbformat_minor": 0,
  "metadata": {
    "colab": {
      "provenance": []
    },
    "kernelspec": {
      "name": "python3",
      "display_name": "Python 3"
    },
    "language_info": {
      "name": "python"
    }
  },
  "cells": [
    {
      "cell_type": "code",
      "execution_count": 4,
      "metadata": {
        "colab": {
          "base_uri": "https://localhost:8080/"
        },
        "id": "WZzm-ntvlBX5",
        "outputId": "81fe9a38-1630-4e55-8554-76af91f80115"
      },
      "outputs": [
        {
          "output_type": "stream",
          "name": "stdout",
          "text": [
            "Digite o primeiro número: 5\n",
            "Digite o segundo número: 4\n",
            "Escolha a operação: \n",
            "[+]Soma [-]Subtração\n",
            "[*]Multiplicação [/]Divisão=\n",
            "Opção Inválida\n",
            "Digite o primeiro número: 4\n",
            "Digite o segundo número: 5\n",
            "Escolha a operação: \n",
            "[+]Soma [-]Subtração\n",
            "[*]Multiplicação [/]Divisão-\n",
            "4.0 - 5.0 = -1.0\n"
          ]
        }
      ],
      "source": [
        "#Definindo variaveis\n",
        "controle = 0\n",
        "checagem = 0\n",
        "resultado = 0\n",
        "#Iniciando loop while\n",
        "while controle == 0:\n",
        "  while checagem == 0:\n",
        "    #variaveis para obter o valor do usuário\n",
        "    numero1 = float(input('Digite o primeiro número: '))\n",
        "    numero2 = float(input('Digite o segundo número: '))\n",
        "    #checando se a opção é valida\n",
        "    operacao = input('Escolha a operação: \\n[+]Soma [-]Subtração\\n[*]Multiplicação [/]Divisão')\n",
        "    if operacao == '+' or operacao == '-' or operacao == '*' or operacao == '/':\n",
        "      checagem = 1\n",
        "    else:\n",
        "      print('Opção Inválida')\n",
        "  #Verificando qual a operação escolhida e realizando os calculos\n",
        "  if operacao == '+':\n",
        "    resultado = numero1 + numero2\n",
        "  elif operacao == '-':\n",
        "    resultado = numero1 - numero2\n",
        "  elif operacao == '*':\n",
        "    resultado = numero1 * numero2\n",
        "  else:\n",
        "    resultado = numero1  / numero2\n",
        "  #mostrando na tela\n",
        "  print(f'{numero1} {operacao} {numero2} = {resultado}')\n",
        "  break\n",
        ""
      ]
    }
  ]
}